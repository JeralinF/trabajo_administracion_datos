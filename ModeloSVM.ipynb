{
 "cells": [
  {
   "cell_type": "code",
   "outputs": [
    {
     "name": "stdout",
     "output_type": "stream",
     "text": [
      "Reporte de clasificación:\n",
      "              precision    recall  f1-score   support\n",
      "\n",
      "           1       1.00      1.00      1.00         3\n",
      "\n",
      "    accuracy                           1.00         3\n",
      "   macro avg       1.00      1.00      1.00         3\n",
      "weighted avg       1.00      1.00      1.00         3\n",
      "\n",
      "Matriz de confusión:\n",
      "[[0 0]\n",
      " [0 3]]\n"
     ]
    },
    {
     "name": "stderr",
     "output_type": "stream",
     "text": [
      "C:\\Users\\jeral\\AppData\\Local\\Temp\\ipykernel_12500\\809336835.py:97: UserWarning: set_ticklabels() should only be used with a fixed number of ticks, i.e. after set_ticks() or using a FixedLocator.\n",
      "  ax.set_xticklabels([''] + ['Baja', 'Sube'])\n",
      "C:\\Users\\jeral\\AppData\\Local\\Temp\\ipykernel_12500\\809336835.py:98: UserWarning: set_ticklabels() should only be used with a fixed number of ticks, i.e. after set_ticks() or using a FixedLocator.\n",
      "  ax.set_yticklabels([''] + ['Baja', 'Sube'])\n"
     ]
    },
    {
     "data": {
      "text/plain": "<Figure size 640x480 with 2 Axes>",
      "image/png": "[encoded data removed]"
     },
     "metadata": {},
     "output_type": "display_data"
    }
   ],
   "source": [
    "from matplotlib import pyplot as plt\n",
    "import pandas as pd\n",
    "import numpy as np\n",
    "from sklearn.svm import SVC\n",
    "from sklearn.model_selection import train_test_split\n",
    "from sklearn.preprocessing import StandardScaler\n",
    "from sklearn.metrics import classification_report, confusion_matrix\n",
    "import logging\n",
    "\n",
    "# Configuración de logging\n",
    "logging.basicConfig(\n",
    "    filename=\"audit_log.txt\",\n",
    "    level=logging.INFO,\n",
    "    format=\"%(asctime)s - %(levelname)s - %(message)s\"\n",
    ")\n",
    "\n",
    "# Cargar los datos desde el archivo CSV\n",
    "df = pd.read_csv(\"datos_cripto.csv\")\n",
    "\n",
    "# Preprocesamiento de los datos\n",
    "# Convertir columnas de texto a string (si es necesario)\n",
    "for col in df.select_dtypes(include=['object']).columns:\n",
    "    df[col] = df[col].astype(str)\n",
    "\n",
    "# Eliminar duplicados\n",
    "df = df.drop_duplicates()\n",
    "\n",
    "# Eliminar filas con valores nulos en columnas clave\n",
    "df = df.dropna(subset=['nombre', 'simbolo', 'precio_usd'])\n",
    "\n",
    "# Crear una columna de target para clasificación (sube o baja el precio)\n",
    "# Usamos \"cambio_24h\" para predecir si el precio sube o baja\n",
    "df['target'] = np.where(df['cambio_24h'] > 0, 1, 0)  # 1 si sube, 0 si baja\n",
    "\n",
    "# Seleccionar las características (features) y el objetivo (target)\n",
    "X = df[[\"precio_usd\", \"cambio_24h\", \"capitalizacion_mercado\"]]  # Características\n",
    "y = df['target']  # Objetivo\n",
    "\n",
    "# Dividir los datos en entrenamiento y prueba\n",
    "X_train, X_test, y_train, y_test = train_test_split(X, y, test_size=0.3, random_state=42)\n",
    "\n",
    "# Estandarizar los datos\n",
    "scaler = StandardScaler()\n",
    "X_train = scaler.fit_transform(X_train)\n",
    "X_test = scaler.transform(X_test)\n",
    "\n",
    "\n",
    "# Entrenamiento del modelo SVM\n",
    "def train_svm(X_train, y_train):\n",
    "    # Crear el modelo SVM\n",
    "    svm_model = SVC(kernel='linear', random_state=42)\n",
    "\n",
    "    # Entrenar el modelo\n",
    "    svm_model.fit(X_train, y_train)\n",
    "\n",
    "    return svm_model\n",
    "\n",
    "def predict_price(price_usd, change_24h, market_cap):\n",
    "    # Validación de datos de entrada\n",
    "    if price_usd <= 0 or market_cap <= 0 or change_24h < -100 or change_24h > 100:\n",
    "        return \"Datos de entrada no válidos. Asegúrese de ingresar valores correctos.\"\n",
    "\n",
    "    # Preprocesar la entrada\n",
    "    input_data = np.array([[price_usd, change_24h, market_cap]])\n",
    "\n",
    "    # Estandarizar los datos antes de predecir\n",
    "    input_data_scaled = scaler.transform(input_data)\n",
    "\n",
    "    # Hacer la predicción\n",
    "    prediction = svm_model.predict(input_data_scaled)\n",
    "\n",
    "    if prediction == 1:\n",
    "        return \"El precio de la criptomoneda subirá.\"\n",
    "    else:\n",
    "        return \"El precio de la criptomoneda bajará.\"\n",
    "\n",
    "\n",
    "# Evaluación del modelo\n",
    "def evaluate_model(svm_model, X_test, y_test):\n",
    "    y_pred = svm_model.predict(X_test)\n",
    "    \n",
    "    # Reporte de clasificación\n",
    "    print(\"Reporte de clasificación:\")\n",
    "    print(classification_report(y_test, y_pred))\n",
    "    \n",
    "    # Matriz de confusión\n",
    "    conf_matrix = confusion_matrix(y_test, y_pred, labels=[0, 1])  # Especificamos las clases 0 y 1\n",
    "    print(\"Matriz de confusión:\")\n",
    "    print(conf_matrix)\n",
    "    \n",
    "    # Graficar la matriz de confusión usando matplotlib\n",
    "    fig, ax = plt.subplots()\n",
    "    cax = ax.matshow(conf_matrix, cmap='Blues')\n",
    "    fig.colorbar(cax)\n",
    "\n",
    "    # Añadir etiquetas\n",
    "    ax.set_xticklabels([''] + ['Baja', 'Sube'])\n",
    "    ax.set_yticklabels([''] + ['Baja', 'Sube'])\n",
    "\n",
    "    # Añadir texto de los valores\n",
    "    for (i, j), val in np.ndenumerate(conf_matrix):\n",
    "        ax.text(j, i, f'{val}', ha='center', va='center', color='black')\n",
    "\n",
    "    plt.title(\"Matriz de Confusión\")\n",
    "    plt.xlabel('Predicción')\n",
    "    plt.ylabel('Realidad')\n",
    "    plt.show()\n",
    "\n",
    "\n",
    "# Main\n",
    "if __name__ == \"__main__\":\n",
    "    try:\n",
    "        # Entrenar el modelo SVM\n",
    "        svm_model = train_svm(X_train, y_train)\n",
    "\n",
    "        # Evaluar el modelo\n",
    "        evaluate_model(svm_model, X_test, y_test)\n",
    "\n",
    "    except Exception as e:\n",
    "        logging.error(f\"Error en el pipeline: {e}\")\n",
    "        print(f\"Error en el pipeline: {e}\")\n",
    "\n",
    "   "
   ],
   "metadata": {
    "collapsed": false,
    "ExecuteTime": {
     "end_time": "2025-03-05T03:05:36.929359Z",
     "start_time": "2025-03-05T03:05:34.149015Z"
    }
   },
   "id": "f0ed442a8861e139",
   "execution_count": 49
  },
  {
   "cell_type": "code",
   "outputs": [
    {
     "data": {
      "text/plain": "['svm_model.pkl']"
     },
     "execution_count": 50,
     "metadata": {},
     "output_type": "execute_result"
    }
   ],
   "source": [
    "import joblib\n",
    "joblib.dump(svm_model, \"svm_model.pkl\")"
   ],
   "metadata": {
    "collapsed": false,
    "ExecuteTime": {
     "end_time": "2025-03-05T03:05:52.651007Z",
     "start_time": "2025-03-05T03:05:52.622430Z"
    }
   },
   "id": "ec175ae8b302929a",
   "execution_count": 50
  },
  {
   "cell_type": "code",
   "outputs": [],
   "source": [],
   "metadata": {
    "collapsed": false
   },
   "id": "21aef6100a458cb4"
  }
 ],
 "metadata": {
  "kernelspec": {
   "display_name": "Python 3",
   "language": "python",
   "name": "python3"
  },
  "language_info": {
   "codemirror_mode": {
    "name": "ipython",
    "version": 2
   },
   "file_extension": ".py",
   "mimetype": "text/x-python",
   "name": "python",
   "nbconvert_exporter": "python",
   "pygments_lexer": "ipython2",
   "version": "2.7.6"
  }
 },
 "nbformat": 4,
 "nbformat_minor": 5
}
